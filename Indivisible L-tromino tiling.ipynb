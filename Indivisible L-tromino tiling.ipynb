{
 "cells": [
  {
   "cell_type": "markdown",
   "metadata": {},
   "source": [
    "## Q : Find all $(m,n)$ for which there exists a $m\\times n$ rectangle tiled by L-trominos s.t. there does not exist a sub-rectangle completely tiled by L-trominos.\n",
    "\n",
    "## A: The families of $(m,n)$ satisfing the given conditions are :\n",
    "### $\\{m,n\\} = \\{2,3\\}$\n",
    "### $\\{m,n\\} = \\{6,2a\\}$ where $a\\geq 2$\n",
    "### $\\{m,n\\} = \\{6a,2b\\}$ where $a\\geq 2,b\\geq 4$ "
   ]
  },
  {
   "cell_type": "code",
   "execution_count": 1,
   "metadata": {},
   "outputs": [],
   "source": [
    "import matplotlib.pyplot as plt\n",
    "plt.rcParams['figure.figsize'] = [10,10]\n",
    "\n",
    "# Settings\n",
    "def settings():\n",
    "    plt.axis('equal')\n",
    "    plt.axis('off')\n",
    "    plt.show()\n",
    "\n",
    "# Case 1 :(2,3)\n",
    "def Case1() :\n",
    "    plt.plot((0,3,3,0,0),(0,0,2,2,0),'k')\n",
    "    plt.plot((2,2,1,1),(0,1,1,2),'k')\n",
    "\n",
    "# Case 2 : (6,2n),n ≥ 2\n",
    "def Case2(n):\n",
    "    \n",
    "    plt.plot((-n,n,n,-n,-n),(-3,-3,3,3,-3),'k')\n",
    "    plt.plot((-n+1,n-1),(0,0),'k')\n",
    "    \n",
    "    for x in range(-n+3,n-2,2):\n",
    "        plt.plot((x,x),(-2,2),'k')\n",
    "        plt.plot((x,x+1),(1,1),'k')\n",
    "        plt.plot((x+1,x+2),(2,2),'k')\n",
    "        plt.plot((-x,-x-1),(-1,-1),'k')\n",
    "        plt.plot((-x-1,-x-2),(-2,-2),'k')\n",
    "        plt.plot((x+1,x+1),(1,3),'k')\n",
    "        plt.plot((-x-1,-x-1),(-1,-3),'k')\n",
    "    plt.plot((n-1,n-1),(0,2),'k')\n",
    "    plt.plot((-n+1,-n+1),(0,-2),'k')\n",
    "    plt.plot((n-2,n-2,n),(0,-1,-1),'k')\n",
    "    plt.plot((-n+2,-n+2,-n),(0,1,1),'k')\n",
    "    plt.plot((n-2,n-2),(-2,-3),'k')\n",
    "    plt.plot((-n+2,-n+2),(2,3),'k')\n",
    "    plt.plot((n-1,n-1,n-3),(-1,-2,-2),'k')\n",
    "    plt.plot((-n+1,-n+1,-n+3),(1,2,2),'k')\n",
    "    plt.plot((n-1,n),(1,1),'k')\n",
    "    plt.plot((-n+1,-n),(-1,-1),'k')\n",
    "\n",
    "# Case 3 : (6n,2m+4), n ≥ 2 , m ≥ 2\n",
    "def Case3(n,m) :\n",
    "\n",
    "    # Drawing rectangle\n",
    "    plt.plot([-4,2*m,2*m,-4,-4],[0,0,6*n,6*n,0],'k')\n",
    "\n",
    "    # Drawing an outline\n",
    "\n",
    "    for i in range(6,6*n,6):\n",
    "        plt.plot([2,2*m],[i,i],'k')\n",
    "        plt.plot([-4,-2],[i,i],'k')\n",
    "\n",
    "    plt.plot([0,0],[0,4],'k')\n",
    "    plt.plot([0,0],[6*n,6*n-4],'k')\n",
    "\n",
    "    for i in range(8,6*(n-1),6):\n",
    "        plt.plot([0,0],[i,i+2],'k')\n",
    "\n",
    "    # Drawing (partial) Flowers\n",
    "\n",
    "    for y in range(6,6*n,6) :\n",
    "        plt.plot([-1,-1,1,1],[y-1,y,y,y+1],'k')\n",
    "        plt.plot([-1,0,0,1],[y+1,y+1,y-1,y-1],'k')\n",
    "\n",
    "    # Completing the left part\n",
    "\n",
    "    for y in range(3,6*n,6) :\n",
    "        plt.plot([-4,-2,-2,0],[y+1,y+1,y-1,y-1],'k')\n",
    "        plt.plot([-3,-3,-1,-1,-3,-3,-1,-1],[y+1,y+2,y+2,y,y,y-2,y-2,y-1],'k')\n",
    "        plt.plot([-2,-2],[y+2,y+3],'k')\n",
    "        plt.plot([-2,-2],[y-2,y-3],'k')\n",
    "        plt.plot([-1,0],[y+1,y+1],'k')\n",
    "        plt.plot([-3,-4],[y-1,y-1],'k')\n",
    "\n",
    "    # Completing the right part\n",
    "\n",
    "    for y in range(3,6*n,6) :\n",
    "        plt.plot((1,2*m-1),(y,y),'k')\n",
    "        for x in range(3,2*m-2,2):\n",
    "            plt.plot((x,x),(y-2,y+2),'k')\n",
    "            plt.plot((x,x+1),(y+1,y+1),'k')\n",
    "            plt.plot((x+1,x+2),(y+2,y+2),'k')\n",
    "            plt.plot((2*m-x,2*m-x-1),(y-1,y-1),'k')\n",
    "            plt.plot((2*m-x-1,2*m-x-2),(y-2,y-2),'k')\n",
    "            plt.plot((x+1,x+1),(y+1,y+3),'k')\n",
    "            plt.plot((2*m-x-1,2*m-x-1),(y-1,y-3),'k')\n",
    "        plt.plot((2*m-1,2*m-1),(y,y+2),'k')\n",
    "        plt.plot((1,1),(y,y-2),'k')\n",
    "        plt.plot((2*m-2,2*m-2,2*m),(y,y-1,y-1),'k')\n",
    "        plt.plot((2,2,0),(y,y+1,y+1),'k')\n",
    "        plt.plot((2*m-2,2*m-2),(y-2,y-3),'k')\n",
    "        plt.plot((2,2),(y+2,y+3),'k')\n",
    "        plt.plot((2*m-1,2*m-1,2*m-3),(y-1,y-2,y-2),'k')\n",
    "        plt.plot((1,1,3),(y+1,y+2,y+2),'k')\n",
    "        plt.plot((2*m-1,2*m),(y+1,y+1),'k')\n",
    "        plt.plot((1,0),(y-1,y-1),'k')"
   ]
  },
  {
   "cell_type": "code",
   "execution_count": 8,
   "metadata": {
    "scrolled": false
   },
   "outputs": [
    {
     "name": "stdout",
     "output_type": "stream",
     "text": [
      "m : 4\n",
      "n : 6\n"
     ]
    },
    {
     "data": {
      "image/png": "[encoded data removed]",
      "text/plain": [
       "<Figure size 720x720 with 1 Axes>"
      ]
     },
     "metadata": {
      "needs_background": "light"
     },
     "output_type": "display_data"
    }
   ],
   "source": [
    "# The final compilation\n",
    "\n",
    "m = int(input('m : '))\n",
    "n = int(input('n : '))\n",
    "\n",
    "if {m,n} == {2,3} :\n",
    "    Case1()\n",
    "    settings()\n",
    "elif (m % 2 == 0) and (n % 2 == 0) and (n > 3) and (m > 3) :\n",
    "    if m == 6 :\n",
    "        Case2(int(n/2))\n",
    "        settings()\n",
    "    elif n == 6 :\n",
    "        Case2(int(m/2))\n",
    "        settings()\n",
    "    elif (m % 3 == 0) and (n > 6) :\n",
    "        Case3(int(m/6),int(n/2-2))\n",
    "        settings()\n",
    "    elif (n % 3 == 0) and (m > 6) :\n",
    "        Case3(int(n/6),int(m/2-2))\n",
    "        settings()\n",
    "    else :\n",
    "        print('There does not exist such a tiling.')\n",
    "else :\n",
    "    print('There does not exist such a tiling.')"
   ]
  },
  {
   "cell_type": "code",
   "execution_count": null,
   "metadata": {},
   "outputs": [],
   "source": []
  }
 ],
 "metadata": {
  "kernelspec": {
   "display_name": "Python 3",
   "language": "python",
   "name": "python3"
  },
  "language_info": {
   "codemirror_mode": {
    "name": "ipython",
    "version": 3
   },
   "file_extension": ".py",
   "mimetype": "text/x-python",
   "name": "python",
   "nbconvert_exporter": "python",
   "pygments_lexer": "ipython3",
   "version": "3.7.6"
  }
 },
 "nbformat": 4,
 "nbformat_minor": 4
}
